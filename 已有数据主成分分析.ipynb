{
  "nbformat": 4,
  "nbformat_minor": 0,
  "metadata": {
    "colab": {
      "provenance": [],
      "authorship_tag": "ABX9TyP8aecHU/rruPqVqil/pMDH",
      "include_colab_link": true
    },
    "kernelspec": {
      "name": "python3",
      "display_name": "Python 3"
    },
    "language_info": {
      "name": "python"
    }
  },
  "cells": [
    {
      "cell_type": "markdown",
      "metadata": {
        "id": "view-in-github",
        "colab_type": "text"
      },
      "source": [
        "<a href=\"https://colab.research.google.com/github/seuhihihi/Colab-Python/blob/main/%E5%B7%B2%E6%9C%89%E6%95%B0%E6%8D%AE%E4%B8%BB%E6%88%90%E5%88%86%E5%88%86%E6%9E%90.ipynb\" target=\"_parent\"><img src=\"https://colab.research.google.com/assets/colab-badge.svg\" alt=\"Open In Colab\"/></a>"
      ]
    },
    {
      "cell_type": "code",
      "execution_count": null,
      "metadata": {
        "id": "oWfFVmRQAKOY"
      },
      "outputs": [],
      "source": [
        "#数据格式示例\n",
        "#ExperimentID\tTemperature\tFlowRate\tSampleSize\tParticleSize\tOlefins\tParaffins\tDiolefins\tAromatics\n",
        "#1\t480\t100\t50\t100\t12.3\t5.1\t2.3\t0.20\n",
        "#2\t540\t200\t100\t200\t18.2\t5.9\t3.1\t0.32\n",
        "\n",
        "import pandas as pd\n",
        "\n",
        "# 读取 Excel 或 CSV 文件（请将文件名替换为你的数据文件）\n",
        "df = pd.read_excel('your_data.xlsx')  # 或 pd.read_csv('your_data.csv')\n",
        "\n",
        "# 显示前几行确认结构\n",
        "\n",
        "print(df.head())\n",
        "import statsmodels.api as sm\n",
        "from statsmodels.formula.api import ols\n",
        "\n",
        "# 示例：对“烯烃”产率进行 ANOVA 分析\n",
        "model = ols('Olefins ~ C(Temperature) + C(FlowRate) + C(SampleSize) + C(ParticleSize)', data=df).fit()\n",
        "anova_table = sm.stats.anova_lm(model, typ=2)\n",
        "print(anova_table)\n",
        "\n",
        "from sklearn.decomposition import PCA\n",
        "import matplotlib.pyplot as plt\n",
        "import seaborn as sns\n",
        "\n",
        "# 选择你想用于 PCA 的产物列（可以有 4–10 个甚至更多）\n",
        "features = ['Olefins', 'Paraffins', 'Diolefins', 'Aromatics']\n",
        "X = df[features]\n",
        "\n",
        "# 执行 PCA 并将前两个主成分加入原表\n",
        "pca = PCA(n_components=2)\n",
        "pca_result = pca.fit_transform(X)\n",
        "df['PC1'] = pca_result[:, 0]\n",
        "df['PC2'] = pca_result[:, 1]\n",
        "\n",
        "# 可视化实验分布（按温度分组示意）\n",
        "plt.figure(figsize=(8,6))\n",
        "sns.scatterplot(data=df, x='PC1', y='PC2', hue='Temperature', palette='coolwarm', s=80)\n",
        "plt.title('PCA 主成分分布图 - 实验产物')\n",
        "plt.grid(True)\n",
        "plt.tight_layout()\n",
        "plt.show()\n",
        "\n",
        "# 假设你有一组 \"正常BBD条件\" 数据 和 一组 \"极端条件\" 数据\n",
        "# 可以通过条件筛选获得均值，例如：\n",
        "bbd = df[df['SampleSize'] <= 150].mean(numeric_only=True)\n",
        "extreme = df[df['SampleSize'] >= 1000].mean(numeric_only=True)\n",
        "\n",
        "# 选择几个关键产物类别进行比较\n",
        "classes = ['Olefins', 'Paraffins', 'Diolefins', 'Aromatics']\n",
        "rel_change = ((extreme[classes] - bbd[classes]) / bbd[classes]) * 100\n",
        "\n",
        "# 可视化结果\n",
        "rel_change.sort_values().plot(kind='barh', color='orange', figsize=(6,4))\n",
        "plt.xlabel('Relative Change (%)')\n",
        "plt.title('极端条件 vs BBD 平均产率变化')\n",
        "plt.grid(axis='x')\n",
        "plt.tight_layout()\n",
        "plt.show()\n"
      ]
    }
  ]
}